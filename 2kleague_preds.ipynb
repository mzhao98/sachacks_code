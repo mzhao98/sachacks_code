{
 "cells": [
  {
   "cell_type": "code",
   "execution_count": 242,
   "metadata": {
    "collapsed": true
   },
   "outputs": [],
   "source": [
    "%matplotlib inline\n",
    "\n",
    "import numpy as np\n",
    "import matplotlib.pyplot as plt\n",
    "import pandas as pd\n",
    "from sklearn.ensemble import RandomForestRegressor, RandomForestClassifier\n",
    "from sklearn.model_selection import cross_val_score\n",
    "from sklearn.preprocessing import normalize\n",
    "from sklearn.svm import SVC\n",
    "import csv"
   ]
  },
  {
   "cell_type": "code",
   "execution_count": 243,
   "metadata": {
    "collapsed": false
   },
   "outputs": [
    {
     "name": "stdout",
     "output_type": "stream",
     "text": [
      "['', 'game_id', 'team', 'points', 'rebounds', 'assists', 'blocks', 'turnovers', 'steals', 'threes', 'winner', 'pt_dif', 'pg', 'sg', 'sf', 'pf', 'c']\n",
      "['1', '71218-kings', 'kings', '60', '16', '18', '1', '4', '3', '4', '1', '2', '4', '5', '1', '1', '5']\n",
      "['2', '71218-kings', 'warriors', '58', '21', '13', '3', '13', '8', '4', '0', '-2', '2', '5', '2', '2', '5']\n",
      "['3', '71418-bucks', 'bucks', '55', '16', '17', '0', '12', '8', '2', '0', '-6', '4', '5', '5', '5', '2']\n",
      "['4', '71418-bucks', 'pistons', '61', '15', '17', '4', '13', '9', '4', '1', '6', '4', '5', '2', '5', '2']\n",
      "['5', '72018-kings', 'celtics', '77', '30', '28', '8', '6', '4', '8', '1', '5', '4', '5', '4', '5', '2']\n",
      "['6', '72018-kings', 'kings', '72', '30', '21', '5', '4', '4', '8', '0', '-5', '4', '5', '3', '2', '5']\n",
      "['7', '72118-mavs', 'grizz', '82', '11', '17', '2', '4', '6', '11', '1', '5', '2', '5', '1', '5', '4']\n",
      "['8', '72118-mavs', 'mavs', '77', '15', '14', '1', '6', '4', '8', '0', '-5', '2', '5', '1', '5', '4']\n",
      "['9', '72218-mavs', 'blazers', '91', '32', '19', '5', '4', '4', '7', '1', '25', '4', '5', '4', '5', '2']\n",
      "['10', '72218-mavs', 'mavs', '66', '16', '17', '3', '7', '7', '8', '0', '-25', '4', '2', '3', '5', '2']\n",
      "['11', '72818-cavs', 'cavs', '55', '10', '14', '5', '11', '8', '3', '0', '-22', '2', '5', '1', '5', '2']\n",
      "['12', '72818-cavs', 'raptors', '77', '27', '21', '2', '7', '6', '7', '1', '22', '2', '5', '2', '5', '2']\n",
      "['13', '72818-kings', 'blazers', '88', '33', '31', '4', '10', '9', '6', '1', '6', '2', '5', '1', '5', '4']\n",
      "['14', '72818-kings', 'kings', '82', '30', '25', '5', '9', '4', '13', '0', '-6', '2', '5', '1', '5', '2']\n",
      "['15', '72818-pistons', 'jazz', '64', '21', '17', '3', '9', '7', '4', '0', '-10', '4', '5', '3', '2', '3']\n",
      "['16', '72818-pistons', 'pistons', '74', '20', '19', '5', '7', '2', '5', '1', '10', '2', '5', '2', '5', '2']\n",
      "['17', '7618-kings', 'kings', '61', '17', '17', '4', '8', '6', '9', '0', '-3', '2', '5', '2', '5', '2']\n",
      "['18', '7618-kings', 'pistons', '64', '25', '19', '2', '7', '3', '8', '1', '3', '2', '5', '1', '5', '2']\n",
      "['19', '7718-knicks', 'knicks', '75', '18', '24', '3', '5', '4', '2', '1', '5', '4', '5', '4', '5', '2']\n",
      "['20', '7718-knicks', 'sixers', '70', '15', '20', '2', '7', '5', '4', '0', '-5', '2', '5', '3', '2', '2']\n",
      "['21', '8318-cavs', 'cavs', '63', '16', '20', '0', '3', '3', '5', '0', '-9', '4', '5', '3', '1', '2']\n",
      "['22', '8318-cavs', 'celtics', '72', '25', '21', '6', '8', '5', '9', '1', '9', '4', '5', '1', '5', '2']\n",
      "['23', '8318-knicks', 'jazz', '87', '25', '26', '2', '9', '8', '4', '0', '-4', '4', '5', '4', '5', '2']\n",
      "['24', '8318-knicks', 'knicks', '91', '25', '26', '3', '6', '5', '6', '1', '4', '2', '5', '1', '5', '4']\n",
      "['25', '8918-heat', 'heat', '80', '15', '23', '2', '8', '5', '9', '1', '11', '4', '2', '3', '5', '2']\n",
      "['26', '8918-heat', 'kings', '69', '26', '22', '2', '16', '10', '6', '0', '-11', '4', '5', '2', '5', '5']\n",
      "['27', '8918-kings', 'kings', '59', '18', '22', '2', '11', '6', '9', '0', '-27', '2', '5', '1', '5', '2']\n",
      "['28', '8918-kings', 'mavs', '86', '18', '18', '2', '4', '4', '10', '1', '27', '2', '5', '1', '5', '2']\n",
      "['29', '8918-pacers', 'pacers', '61', '23', '12', '4', '5', '3', '7', '0', '-1', '4', '5', '3', '5', '2']\n",
      "['30', '8918-pacers', 'warriors', '61', '22', '13', '3', '4', '2', '5', '1', '1', '4', '5', '3', '5', '2']\n"
     ]
    }
   ],
   "source": [
    "with open('gameSheet.csv') as csv_file:\n",
    "    csv_reader = csv.reader(csv_file, delimiter=',')\n",
    "    for row in csv_reader:\n",
    "        print(row)"
   ]
  },
  {
   "cell_type": "code",
   "execution_count": 244,
   "metadata": {
    "collapsed": false
   },
   "outputs": [],
   "source": [
    "def get_one_hot_encode(archetype):\n",
    "    res = [0 for i in range(5)]\n",
    "    res[archetype-1] = 1\n",
    "    return res"
   ]
  },
  {
   "cell_type": "code",
   "execution_count": 260,
   "metadata": {
    "collapsed": false
   },
   "outputs": [],
   "source": [
    "gameSheet = []\n",
    "\n",
    "with open('gameSheet.csv') as csv_file:\n",
    "    csv_reader = csv.reader(csv_file, delimiter=',')\n",
    "    for row in csv_reader:\n",
    "        try:\n",
    "            temp = []\n",
    "            \n",
    "            for i in range(3, len(row)):\n",
    "                temp.append(int(row[i]))\n",
    "            \n",
    "            gameSheet.append(temp)\n",
    "        \n",
    "        except ValueError:\n",
    "            continue\n",
    "gameSheet = np.array(gameSheet)"
   ]
  },
  {
   "cell_type": "code",
   "execution_count": 298,
   "metadata": {
    "collapsed": false
   },
   "outputs": [],
   "source": [
    "x = []\n",
    "y = []\n",
    "\n",
    "for i in range(len(gameSheet)):\n",
    "    temp = []\n",
    "    if i % 2 == 0:\n",
    "        for j in range(1, 5):\n",
    "            temp.append(gameSheet[i][j] - gameSheet[i+1][j])\n",
    "        x.append(temp)\n",
    "        y.append(gameSheet[i][7])\n",
    "    else:\n",
    "        for j in range(1, 5):\n",
    "            temp.append(gameSheet[i][j] - gameSheet[i-1][j])\n",
    "        x.append(temp)\n",
    "        y.append(gameSheet[i][7])"
   ]
  },
  {
   "cell_type": "code",
   "execution_count": 308,
   "metadata": {
    "collapsed": false
   },
   "outputs": [
    {
     "name": "stdout",
     "output_type": "stream",
     "text": [
      "0.8666666666666666\n",
      "[[ 0.08309625  0.87240853  0.43118298 -0.64137549]]\n"
     ]
    }
   ],
   "source": [
    "rf = SVC(kernel='linear')\n",
    "rf.fit(x, y)\n",
    "print(np.mean(cross_val_score(rf, x, y, cv=5)))\n",
    "print(rf.coef_)"
   ]
  },
  {
   "cell_type": "code",
   "execution_count": 309,
   "metadata": {
    "collapsed": false
   },
   "outputs": [
    {
     "name": "stdout",
     "output_type": "stream",
     "text": [
      "0.8333333333333333\n",
      "[0.08356099 0.53775907 0.16071088 0.21796906]\n"
     ]
    }
   ],
   "source": [
    "rf = RandomForestClassifier()\n",
    "rf.fit(x, y)\n",
    "print(np.mean(cross_val_score(rf, x, y, cv=5)))\n",
    "print(rf.feature_importances_)"
   ]
  },
  {
   "cell_type": "code",
   "execution_count": 314,
   "metadata": {
    "collapsed": false,
    "scrolled": false
   },
   "outputs": [
    {
     "name": "stdout",
     "output_type": "stream",
     "text": [
      "['game_id', 'team', 'player_id', 'matchup_id', 'position', 'archetype', 'field_goal_percentage', 'three_point_percentage', 'three_ptrs', 'rebounds', 'assists', 'steals', 'turnovers', 'blocks', 'points']\n"
     ]
    }
   ],
   "source": [
    "with open('players.csv') as csv_file:\n",
    "    csv_reader = csv.reader(csv_file, delimiter=',')\n",
    "    for row in csv_reader:\n",
    "        print(row)\n",
    "        break"
   ]
  },
  {
   "cell_type": "code",
   "execution_count": 312,
   "metadata": {
    "collapsed": false
   },
   "outputs": [],
   "source": [
    "pgs = []\n",
    "sgs = []\n",
    "sfs = []\n",
    "pfs = []\n",
    "cs = []\n",
    "\n",
    "with open('players.csv') as csv_file:\n",
    "    csv_reader = csv.reader(csv_file, delimiter=',')\n",
    "    for row in csv_reader:\n",
    "        if row[4] == '1':\n",
    "            pgs.append(row)\n",
    "        elif row[4] == '2':\n",
    "            sgs.append(row)\n",
    "        elif row[4] == '3':\n",
    "            sfs.append(row)\n",
    "        elif row[4] == '4':\n",
    "            pfs.append(row)\n",
    "        elif row[4] == '5':\n",
    "            cs.append(row)"
   ]
  },
  {
   "cell_type": "code",
   "execution_count": 323,
   "metadata": {
    "collapsed": false
   },
   "outputs": [],
   "source": [
    "pgs_defense = {}\n",
    "\n",
    "for i in range(len(pgs)):\n",
    "    if i % 2 == 0:\n",
    "        matchup = pgs[i+1]\n",
    "        if pgs[i][5] not in pgs_defense:\n",
    "            # opp_archetype, opp_fg%, opp_turnovers, opp_points, pg_steals, pg_blocks\n",
    "            pgs_defense[pgs[i][5]] = [[matchup[5], matchup[6], matchup[12], matchup[14], pgs[i][11], pgs[i][13]]]\n",
    "        else:\n",
    "            pgs_defense[pgs[i][5]].append([matchup[5], matchup[6], matchup[12], matchup[14], pgs[i][11], pgs[i][13]])\n",
    "    else:\n",
    "        matchup = pgs[i-1]\n",
    "        if pgs[i][5] not in pgs_defense:\n",
    "            # opp_archetype, opp_fg%, opp_turnovers, opp_points, pg_steals, pg_blocks\n",
    "            pgs_defense[pgs[i][5]] = [[matchup[5], matchup[6], matchup[12], matchup[14], pgs[i][11], pgs[i][13]]]\n",
    "        else:\n",
    "            pgs_defense[pgs[i][5]].append([matchup[5], matchup[6], matchup[12], matchup[14], pgs[i][11], pgs[i][13]])"
   ]
  },
  {
   "cell_type": "code",
   "execution_count": 354,
   "metadata": {
    "collapsed": false
   },
   "outputs": [],
   "source": [
    "pgs_defense_avgs = {}\n",
    "\n",
    "for key in pgs_defense:\n",
    "    if key not in pgs_defense_avgs:\n",
    "        pgs_defense_avgs[key] = {}\n",
    "    for matchup in pgs_defense[key]:\n",
    "        if matchup[0] not in pgs_defense_avgs[key]:\n",
    "            pgs_defense_avgs[key][matchup[0]] = {}\n",
    "            pgs_defense_avgs[key][matchup[0]]['tots'] = []\n",
    "            pgs_defense_avgs[key][matchup[0]]['count'] = 1\n",
    "            for i in range(1, len(matchup)):\n",
    "                pgs_defense_avgs[key][matchup[0]]['tots'].append(float(matchup[i]))\n",
    "        else:\n",
    "            pgs_defense_avgs[key][matchup[0]]['count'] += 1\n",
    "            for i in range(1, len(matchup)):\n",
    "                pgs_defense_avgs[key][matchup[0]]['tots'][i-1] += float(matchup[i])\n"
   ]
  },
  {
   "cell_type": "code",
   "execution_count": 355,
   "metadata": {
    "collapsed": false
   },
   "outputs": [
    {
     "data": {
      "text/plain": [
       "{'2': {'2': {'count': 10, 'tots': [5.430000000000001, 28.0, 149.0, 23.0, 0.0]},\n",
       "  '4': {'count': 4, 'tots': [1.3900000000000001, 11.0, 48.0, 8.0, 2.0]}},\n",
       " '4': {'2': {'count': 4, 'tots': [2.1246153846, 11.0, 84.0, 7.0, 1.0]},\n",
       "  '4': {'count': 12, 'tots': [5.4750000000000005, 40.0, 184.0, 28.0, 1.0]}}}"
      ]
     },
     "execution_count": 355,
     "metadata": {},
     "output_type": "execute_result"
    }
   ],
   "source": [
    "pgs_defense_avgs"
   ]
  },
  {
   "cell_type": "code",
   "execution_count": 371,
   "metadata": {
    "collapsed": false
   },
   "outputs": [
    {
     "name": "stdout",
     "output_type": "stream",
     "text": [
      "POINT GUARDS\n",
      "4 held 2 to [ 0.53115385  2.75       21.          1.75        0.25      ]\n",
      "4 held 4 to [ 0.45625     3.33333333 15.33333333  2.33333333  0.08333333]\n",
      "2 held 4 to [ 0.3475  2.75   12.      2.      0.5   ]\n",
      "2 held 2 to [ 0.543  2.8   14.9    2.3    0.   ]\n"
     ]
    }
   ],
   "source": [
    "print(\"POINT GUARDS\")\n",
    "for defender in pgs_defense_avgs:\n",
    "    for matchup in pgs_defense_avgs[defender]:\n",
    "        print(f\"{defender} held {matchup} to {np.array(pgs_defense_avgs[defender][matchup]['tots']) / pgs_defense_avgs[defender][matchup]['count']}\")\n",
    "        \n",
    "        \n",
    "        \n",
    "        \n",
    "        \n",
    "        \n",
    "        \n",
    "        "
   ]
  },
  {
   "cell_type": "code",
   "execution_count": 362,
   "metadata": {
    "collapsed": false
   },
   "outputs": [],
   "source": [
    "sgs_defense = {}\n",
    "\n",
    "for i in range(len(sgs)):\n",
    "    if i % 2 == 0:\n",
    "        matchup = sgs[i+1]\n",
    "        if sgs[i][5] not in sgs_defense:\n",
    "            # opp_archetype, opp_fg%, opp_turnovers, opp_points, pg_steals, pg_blocks\n",
    "            sgs_defense[sgs[i][5]] = [[matchup[5], matchup[6], matchup[12], matchup[14], sgs[i][11], sgs[i][13]]]\n",
    "        else:\n",
    "            sgs_defense[sgs[i][5]].append([matchup[5], matchup[6], matchup[12], matchup[14], sgs[i][11], sgs[i][13]])\n",
    "    else:\n",
    "        matchup = sgs[i-1]\n",
    "        if sgs[i][5] not in sgs_defense:\n",
    "            # opp_archetype, opp_fg%, opp_turnovers, opp_points, pg_steals, pg_blocks\n",
    "            sgs_defense[sgs[i][5]] = [[matchup[5], matchup[6], matchup[12], matchup[14], sgs[i][11], sgs[i][13]]]\n",
    "        else:\n",
    "            sgs_defense[sgs[i][5]].append([matchup[5], matchup[6], matchup[12], matchup[14], sgs[i][11], sgs[i][13]])"
   ]
  },
  {
   "cell_type": "code",
   "execution_count": 363,
   "metadata": {
    "collapsed": true
   },
   "outputs": [],
   "source": [
    "sgs_defense_avgs = {}\n",
    "\n",
    "for key in sgs_defense:\n",
    "    if key not in sgs_defense_avgs:\n",
    "        sgs_defense_avgs[key] = {}\n",
    "    for matchup in sgs_defense[key]:\n",
    "        if matchup[0] not in sgs_defense_avgs[key]:\n",
    "            sgs_defense_avgs[key][matchup[0]] = {}\n",
    "            sgs_defense_avgs[key][matchup[0]]['tots'] = []\n",
    "            sgs_defense_avgs[key][matchup[0]]['count'] = 1\n",
    "            for i in range(1, len(matchup)):\n",
    "                sgs_defense_avgs[key][matchup[0]]['tots'].append(float(matchup[i]))\n",
    "        else:\n",
    "            sgs_defense_avgs[key][matchup[0]]['count'] += 1\n",
    "            for i in range(1, len(matchup)):\n",
    "                sgs_defense_avgs[key][matchup[0]]['tots'][i-1] += float(matchup[i])\n"
   ]
  },
  {
   "cell_type": "code",
   "execution_count": 369,
   "metadata": {
    "collapsed": false
   },
   "outputs": [
    {
     "data": {
      "text/plain": [
       "{'2': {'5': {'count': 2, 'tots': [1.1, 1.0, 21.0, 0.0, 0.0]}},\n",
       " '5': {'2': {'count': 2, 'tots': [1.11, 0.0, 27.0, 1.0, 0.0]},\n",
       "  '5': {'count': 26, 'tots': [15.203333333300002, 13.0, 263.0, 13.0, 0.0]}}}"
      ]
     },
     "execution_count": 369,
     "metadata": {},
     "output_type": "execute_result"
    }
   ],
   "source": [
    "sgs_defense_avgs"
   ]
  },
  {
   "cell_type": "code",
   "execution_count": 370,
   "metadata": {
    "collapsed": false
   },
   "outputs": [
    {
     "name": "stdout",
     "output_type": "stream",
     "text": [
      "SHOOTING GUARDS\n",
      "5 held 5 to [ 0.58474359  0.5        10.11538462  0.5         0.        ]\n",
      "5 held 2 to [ 0.555  0.    13.5    0.5    0.   ]\n",
      "2 held 5 to [ 0.55  0.5  10.5   0.    0.  ]\n"
     ]
    }
   ],
   "source": [
    "print(\"SHOOTING GUARDS\")\n",
    "for defender in sgs_defense_avgs:\n",
    "    for matchup in sgs_defense_avgs[defender]:\n",
    "        print(f\"{defender} held {matchup} to {np.array(sgs_defense_avgs[defender][matchup]['tots']) / sgs_defense_avgs[defender][matchup]['count']}\")"
   ]
  },
  {
   "cell_type": "code",
   "execution_count": 372,
   "metadata": {
    "collapsed": true
   },
   "outputs": [],
   "source": [
    "sfs_defense = {}\n",
    "\n",
    "for i in range(len(sfs)):\n",
    "    if i % 2 == 0:\n",
    "        matchup = sfs[i+1]\n",
    "        if sfs[i][5] not in sfs_defense:\n",
    "            # opp_archetype, opp_fg%, opp_turnovers, opp_points, pg_steals, pg_blocks\n",
    "            sfs_defense[sfs[i][5]] = [[matchup[5], matchup[6], matchup[12], matchup[14], sfs[i][11], sfs[i][13]]]\n",
    "        else:\n",
    "            sfs_defense[sfs[i][5]].append([matchup[5], matchup[6], matchup[12], matchup[14], sfs[i][11], sfs[i][13]])\n",
    "    else:\n",
    "        matchup = sfs[i-1]\n",
    "        if sfs[i][5] not in sfs_defense:\n",
    "            # opp_archetype, opp_fg%, opp_turnovers, opp_points, pg_steals, pg_blocks\n",
    "            sfs_defense[sgs[i][5]] = [[matchup[5], matchup[6], matchup[12], matchup[14], sfs[i][11], sfs[i][13]]]\n",
    "        else:\n",
    "            sfs_defense[sgs[i][5]].append([matchup[5], matchup[6], matchup[12], matchup[14], sfs[i][11], sfs[i][13]])"
   ]
  },
  {
   "cell_type": "code",
   "execution_count": 373,
   "metadata": {
    "collapsed": true
   },
   "outputs": [],
   "source": [
    "sfs_defense_avgs = {}\n",
    "\n",
    "for key in sfs_defense:\n",
    "    if key not in sfs_defense_avgs:\n",
    "        sfs_defense_avgs[key] = {}\n",
    "    for matchup in sfs_defense[key]:\n",
    "        if matchup[0] not in sfs_defense_avgs[key]:\n",
    "            sfs_defense_avgs[key][matchup[0]] = {}\n",
    "            sfs_defense_avgs[key][matchup[0]]['tots'] = []\n",
    "            sfs_defense_avgs[key][matchup[0]]['count'] = 1\n",
    "            for i in range(1, len(matchup)):\n",
    "                sfs_defense_avgs[key][matchup[0]]['tots'].append(float(matchup[i]))\n",
    "        else:\n",
    "            sfs_defense_avgs[key][matchup[0]]['count'] += 1\n",
    "            for i in range(1, len(matchup)):\n",
    "                sfs_defense_avgs[key][matchup[0]]['tots'][i-1] += float(matchup[i])\n"
   ]
  },
  {
   "cell_type": "code",
   "execution_count": 374,
   "metadata": {
    "collapsed": false
   },
   "outputs": [
    {
     "data": {
      "text/plain": [
       "{'1': {'1': {'count': 3, 'tots': [2.3600000000000003, 6.0, 78.0, 9.0, 2.0]},\n",
       "  '2': {'count': 2, 'tots': [0.7914285714, 2.0, 14.0, 3.0, 0.0]}},\n",
       " '2': {'1': {'count': 1, 'tots': [0.71, 3.0, 25.0, 0.0, 0.0]},\n",
       "  '4': {'count': 1, 'tots': [0.57, 3.0, 18.0, 0.0, 0.0]}},\n",
       " '3': {'1': {'count': 1, 'tots': [0.5, 0.0, 18.0, 0.0, 0.0]},\n",
       "  '2': {'count': 2, 'tots': [1.38, 5.0, 24.0, 0.0, 0.0]},\n",
       "  '3': {'count': 1, 'tots': [0.8, 0.0, 11.0, 0.0, 0.0]}},\n",
       " '4': {'1': {'count': 1, 'tots': [0.87, 5.0, 28.0, 1.0, 1.0]},\n",
       "  '3': {'count': 3, 'tots': [1.9428571429000001, 1.0, 47.0, 4.0, 1.0]}},\n",
       " '5': {'1': {'count': 4, 'tots': [2.64, 17.0, 116.0, 7.0, 3.0]},\n",
       "  '2': {'count': 1, 'tots': [0.64, 0.0, 21.0, 2.0, 0.0]},\n",
       "  '3': {'count': 4, 'tots': [2.59, 1.0, 50.0, 1.0, 0.0]},\n",
       "  '4': {'count': 3, 'tots': [1.4955555556000002, 6.0, 48.0, 4.0, 0.0]}}}"
      ]
     },
     "execution_count": 374,
     "metadata": {},
     "output_type": "execute_result"
    }
   ],
   "source": [
    "sfs_defense_avgs"
   ]
  },
  {
   "cell_type": "code",
   "execution_count": 375,
   "metadata": {
    "collapsed": false
   },
   "outputs": [
    {
     "name": "stdout",
     "output_type": "stream",
     "text": [
      "SMALL FORWARDS\n",
      "1 held 2 to [0.39571429 1.         7.         1.5        0.        ]\n",
      "1 held 1 to [ 0.78666667  2.         26.          3.          0.66666667]\n",
      "5 held 4 to [ 0.49851852  2.         16.          1.33333333  0.        ]\n",
      "5 held 1 to [ 0.66  4.25 29.    1.75  0.75]\n",
      "5 held 3 to [ 0.6475  0.25   12.5     0.25    0.    ]\n",
      "5 held 2 to [ 0.64  0.   21.    2.    0.  ]\n",
      "4 held 3 to [ 0.64761905  0.33333333 15.66666667  1.33333333  0.33333333]\n",
      "4 held 1 to [ 0.87  5.   28.    1.    1.  ]\n",
      "2 held 4 to [ 0.57  3.   18.    0.    0.  ]\n",
      "2 held 1 to [ 0.71  3.   25.    0.    0.  ]\n",
      "3 held 2 to [ 0.69  2.5  12.    0.    0.  ]\n",
      "3 held 1 to [ 0.5  0.  18.   0.   0. ]\n",
      "3 held 3 to [ 0.8  0.  11.   0.   0. ]\n"
     ]
    }
   ],
   "source": [
    "print(\"SMALL FORWARDS\")\n",
    "for defender in sfs_defense_avgs:\n",
    "    for matchup in sfs_defense_avgs[defender]:\n",
    "        print(f\"{defender} held {matchup} to {np.array(sfs_defense_avgs[defender][matchup]['tots']) / sfs_defense_avgs[defender][matchup]['count']}\")"
   ]
  },
  {
   "cell_type": "code",
   "execution_count": 378,
   "metadata": {
    "collapsed": false
   },
   "outputs": [],
   "source": [
    "pfs_defense = {}\n",
    "\n",
    "for i in range(len(pfs)):\n",
    "    if i % 2 == 0:\n",
    "        matchup = pfs[i+1]\n",
    "        if pfs[i][5] not in pfs_defense:\n",
    "            # opp_archetype, opp_fg%, opp_turnovers, opp_points, pg_steals, pg_blocks\n",
    "            pfs_defense[pfs[i][5]] = [[matchup[5], matchup[6], matchup[12], matchup[14], pfs[i][11], pfs[i][13]]]\n",
    "        else:\n",
    "            pfs_defense[pfs[i][5]].append([matchup[5], matchup[6], matchup[12], matchup[14], pfs[i][11], pfs[i][13]])\n",
    "    else:\n",
    "        matchup = pfs[i-1]\n",
    "        if pfs[i][5] not in pfs_defense:\n",
    "            # opp_archetype, opp_fg%, opp_turnovers, opp_points, pg_steals, pg_blocks\n",
    "            pfs_defense[pfs[i][5]] = [[matchup[5], matchup[6], matchup[12], matchup[14], pfs[i][11], pfs[i][13]]]\n",
    "        else:\n",
    "            pfs_defense[pfs[i][5]].append([matchup[5], matchup[6], matchup[12], matchup[14], pfs[i][11], pfs[i][13]])"
   ]
  },
  {
   "cell_type": "code",
   "execution_count": 379,
   "metadata": {
    "collapsed": true
   },
   "outputs": [],
   "source": [
    "pfs_defense_avgs = {}\n",
    "\n",
    "for key in pfs_defense:\n",
    "    if key not in pfs_defense_avgs:\n",
    "        pfs_defense_avgs[key] = {}\n",
    "    for matchup in pfs_defense[key]:\n",
    "        if matchup[0] not in pfs_defense_avgs[key]:\n",
    "            pfs_defense_avgs[key][matchup[0]] = {}\n",
    "            pfs_defense_avgs[key][matchup[0]]['tots'] = []\n",
    "            pfs_defense_avgs[key][matchup[0]]['count'] = 1\n",
    "            for i in range(1, len(matchup)):\n",
    "                pfs_defense_avgs[key][matchup[0]]['tots'].append(float(matchup[i]))\n",
    "        else:\n",
    "            pfs_defense_avgs[key][matchup[0]]['count'] += 1\n",
    "            for i in range(1, len(matchup)):\n",
    "                pfs_defense_avgs[key][matchup[0]]['tots'][i-1] += float(matchup[i])\n"
   ]
  },
  {
   "cell_type": "code",
   "execution_count": 380,
   "metadata": {
    "collapsed": false
   },
   "outputs": [
    {
     "data": {
      "text/plain": [
       "{'1': {'2': {'count': 1, 'tots': [0.64, 2.0, 19.0, 1.0, 2.0]},\n",
       "  '5': {'count': 1, 'tots': [0.57, 0.0, 11.0, 0.0, 3.0]}},\n",
       " '2': {'1': {'count': 1, 'tots': [0.57, 1.0, 14.0, 0.0, 0.0]},\n",
       "  '5': {'count': 3, 'tots': [2.16, 2.0, 24.0, 4.0, 4.0]}},\n",
       " '5': {'1': {'count': 1, 'tots': [0.43, 0.0, 6.0, 0.0, 1.0]},\n",
       "  '2': {'count': 3, 'tots': [1.6954545455, 5.0, 36.0, 2.0, 7.0]},\n",
       "  '5': {'count': 20, 'tots': [9.675, 18.0, 142.0, 19.0, 9.0]}}}"
      ]
     },
     "execution_count": 380,
     "metadata": {},
     "output_type": "execute_result"
    }
   ],
   "source": [
    "pfs_defense_avgs"
   ]
  },
  {
   "cell_type": "code",
   "execution_count": 382,
   "metadata": {
    "collapsed": false
   },
   "outputs": [
    {
     "name": "stdout",
     "output_type": "stream",
     "text": [
      "POWER FORWARDS\n",
      "1 held 2 to [ 0.64  2.   19.    1.    2.  ]\n",
      "1 held 5 to [ 0.57  0.   11.    0.    3.  ]\n",
      "2 held 1 to [ 0.57  1.   14.    0.    0.  ]\n",
      "2 held 5 to [0.72       0.66666667 8.         1.33333333 1.33333333]\n",
      "5 held 5 to [0.48375 0.9     7.1     0.95    0.45   ]\n",
      "5 held 2 to [ 0.56515152  1.66666667 12.          0.66666667  2.33333333]\n",
      "5 held 1 to [0.43 0.   6.   0.   1.  ]\n"
     ]
    }
   ],
   "source": [
    "print(\"POWER FORWARDS\")\n",
    "for defender in pfs_defense_avgs:\n",
    "    for matchup in pfs_defense_avgs[defender]:\n",
    "        print(f\"{defender} held {matchup} to {np.array(pfs_defense_avgs[defender][matchup]['tots']) / pfs_defense_avgs[defender][matchup]['count']}\")"
   ]
  },
  {
   "cell_type": "code",
   "execution_count": 383,
   "metadata": {
    "collapsed": true
   },
   "outputs": [],
   "source": [
    "cs_defense = {}\n",
    "\n",
    "for i in range(len(cs)):\n",
    "    if i % 2 == 0:\n",
    "        matchup = cs[i+1]\n",
    "        if cs[i][5] not in cs_defense:\n",
    "            # opp_archetype, opp_fg%, opp_turnovers, opp_points, pg_steals, pg_blocks\n",
    "            cs_defense[cs[i][5]] = [[matchup[5], matchup[6], matchup[12], matchup[14], cs[i][11], cs[i][13]]]\n",
    "        else:\n",
    "            cs_defense[cs[i][5]].append([matchup[5], matchup[6], matchup[12], matchup[14], cs[i][11], cs[i][13]])\n",
    "    else:\n",
    "        matchup = cs[i-1]\n",
    "        if cs[i][5] not in cs_defense:\n",
    "            # opp_archetype, opp_fg%, opp_turnovers, opp_points, pg_steals, pg_blocks\n",
    "            cs_defense[cs[i][5]] = [[matchup[5], matchup[6], matchup[12], matchup[14], cs[i][11], cs[i][13]]]\n",
    "        else:\n",
    "            cs_defense[cs[i][5]].append([matchup[5], matchup[6], matchup[12], matchup[14], cs[i][11], cs[i][13]])"
   ]
  },
  {
   "cell_type": "code",
   "execution_count": 384,
   "metadata": {
    "collapsed": true
   },
   "outputs": [],
   "source": [
    "cs_defense_avgs = {}\n",
    "\n",
    "for key in cs_defense:\n",
    "    if key not in cs_defense_avgs:\n",
    "        cs_defense_avgs[key] = {}\n",
    "    for matchup in cs_defense[key]:\n",
    "        if matchup[0] not in cs_defense_avgs[key]:\n",
    "            cs_defense_avgs[key][matchup[0]] = {}\n",
    "            cs_defense_avgs[key][matchup[0]]['tots'] = []\n",
    "            cs_defense_avgs[key][matchup[0]]['count'] = 1\n",
    "            for i in range(1, len(matchup)):\n",
    "                cs_defense_avgs[key][matchup[0]]['tots'].append(float(matchup[i]))\n",
    "        else:\n",
    "            cs_defense_avgs[key][matchup[0]]['count'] += 1\n",
    "            for i in range(1, len(matchup)):\n",
    "                cs_defense_avgs[key][matchup[0]]['tots'][i-1] += float(matchup[i])\n"
   ]
  },
  {
   "cell_type": "code",
   "execution_count": 385,
   "metadata": {
    "collapsed": false
   },
   "outputs": [
    {
     "data": {
      "text/plain": [
       "{'2': {'2': {'count': 16, 'tots': [11.52, 29.0, 322.0, 16.0, 32.0]},\n",
       "  '3': {'count': 1, 'tots': [0.63, 1.0, 21.0, 0.0, 2.0]},\n",
       "  '4': {'count': 2, 'tots': [1.0, 1.0, 15.0, 2.0, 1.0]},\n",
       "  '5': {'count': 2, 'tots': [0.975, 2.0, 39.0, 1.0, 2.0]}},\n",
       " '3': {'2': {'count': 1, 'tots': [0.88, 2.0, 15.0, 1.0, 0.0]}},\n",
       " '4': {'2': {'count': 2, 'tots': [1.4, 4.0, 47.0, 0.0, 5.0]},\n",
       "  '4': {'count': 2, 'tots': [1.66, 1.0, 29.0, 2.0, 1.0]}},\n",
       " '5': {'2': {'count': 2, 'tots': [1.2485714286, 1.0, 48.0, 1.0, 7.0]},\n",
       "  '5': {'count': 2, 'tots': [1.0, 1.0, 14.0, 1.0, 4.0]}}}"
      ]
     },
     "execution_count": 385,
     "metadata": {},
     "output_type": "execute_result"
    }
   ],
   "source": [
    "cs_defense_avgs"
   ]
  },
  {
   "cell_type": "code",
   "execution_count": 386,
   "metadata": {
    "collapsed": false
   },
   "outputs": [
    {
     "name": "stdout",
     "output_type": "stream",
     "text": [
      "CENTER\n",
      "5 held 5 to [0.5 0.5 7.  0.5 2. ]\n",
      "5 held 2 to [ 0.62428571  0.5        24.          0.5         3.5       ]\n",
      "2 held 2 to [ 0.72    1.8125 20.125   1.      2.    ]\n",
      "2 held 5 to [ 0.4875  1.     19.5     0.5     1.    ]\n",
      "2 held 4 to [0.5 0.5 7.5 1.  0.5]\n",
      "2 held 3 to [ 0.63  1.   21.    0.    2.  ]\n",
      "4 held 4 to [ 0.83  0.5  14.5   1.    0.5 ]\n",
      "4 held 2 to [ 0.7  2.  23.5  0.   2.5]\n",
      "3 held 2 to [ 0.88  2.   15.    1.    0.  ]\n"
     ]
    }
   ],
   "source": [
    "print(\"CENTER\")\n",
    "for defender in cs_defense_avgs:\n",
    "    for matchup in cs_defense_avgs[defender]:\n",
    "        print(f\"{defender} held {matchup} to {np.array(cs_defense_avgs[defender][matchup]['tots']) / cs_defense_avgs[defender][matchup]['count']}\")"
   ]
  }
 ],
 "metadata": {
  "kernelspec": {
   "display_name": "Python 3",
   "language": "python",
   "name": "python3"
  },
  "language_info": {
   "codemirror_mode": {
    "name": "ipython",
    "version": 3
   },
   "file_extension": ".py",
   "mimetype": "text/x-python",
   "name": "python",
   "nbconvert_exporter": "python",
   "pygments_lexer": "ipython3",
   "version": "3.6.0"
  }
 },
 "nbformat": 4,
 "nbformat_minor": 2
}
